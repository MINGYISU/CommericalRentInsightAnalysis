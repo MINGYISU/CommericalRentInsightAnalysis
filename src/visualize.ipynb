{
 "cells": [
  {
   "cell_type": "code",
   "execution_count": null,
   "id": "81ee1979",
   "metadata": {},
   "outputs": [],
   "source": [
    "import numpy as np\n",
    "import pandas as pd\n",
    "import matplotlib.pyplot as plt\n",
    "import seaborn as sns\n",
    "import os"
   ]
  },
  {
   "cell_type": "code",
   "execution_count": null,
   "id": "cb05d0cc",
   "metadata": {},
   "outputs": [],
   "source": [
    "data_source_path = \"data\"\n",
    "directory = list(filter(lambda x: x.endswith(\".csv\"), os.listdir(data_source_path)))\n",
    "datasets = []\n",
    "\n",
    "for file_name in directory:\n",
    "    file_path = os.path.join(data_source_path, file_name)\n",
    "    temp_df = pd.read_csv(file_path)\n",
    "    datasets.append(temp_df)\n",
    "\n",
    "df = pd.concat(datasets, ignore_index=True)\n",
    "df = pd.read_csv(\"cleaned_leases_features.csv\")"
   ]
  },
  {
   "cell_type": "code",
   "execution_count": null,
   "id": "596a4748",
   "metadata": {},
   "outputs": [],
   "source": [
    "# Describe the data\n",
    "df.head()\n",
    "print('Data Size: ' + str(df.shape))\n",
    "print(df.info())\n",
    "print(df.describe())"
   ]
  },
  {
   "cell_type": "code",
   "execution_count": null,
   "id": "d0276370",
   "metadata": {},
   "outputs": [],
   "source": [
    "# These are time columns\n",
    "TIME_COLS = [\"year\", \"quarter\"]\n",
    "\n",
    "# The following are columns for classificiation purpose\n",
    "MANY_UNIQUE_VALS = [\"zip\", \"transaction_type\"]\n",
    "\n",
    "# These are columns with only a few unique values, so we can convert them to numerical values\n",
    "FEW_UNIQUE_VALS = [\"industry_cluster\",\n",
    "                    \"space_type\",\n",
    "                    \"internal_class\",\n",
    "                    \"CBD_suburban\"]\n",
    "\n",
    "NUMERIC_COLS = [\"unemployment_rate\",\n",
    "                \"num_leases\", \n",
    "                'availability_proportion',\n",
    "                'occupancy_proportion', \n",
    "                ]"
   ]
  },
  {
   "cell_type": "code",
   "execution_count": null,
   "id": "67f05b18",
   "metadata": {},
   "outputs": [],
   "source": [
    "# draw the distribution of numeric columns\n",
    "for col in NUMERIC_COLS:\n",
    "    plt.figure(figsize=(10, 5))\n",
    "    sns.histplot(df[col], bins=30, kde=True)\n",
    "    plt.title(f'Distribution of {col}')\n",
    "    plt.xlabel(col)\n",
    "    plt.ylabel('Frequency')\n",
    "    plt.savefig(f'plots/distribution_{col}.png')"
   ]
  },
  {
   "cell_type": "code",
   "execution_count": null,
   "id": "c2ec8b91",
   "metadata": {},
   "outputs": [],
   "source": [
    "# Draw the distribution of the columns with only a few unique values\n",
    "nrows, ncols = 2, 2\n",
    "fig, axes = plt.subplots(nrows=nrows, ncols=ncols, figsize=(20, 16))\n",
    "axes = axes.flatten()\n",
    "\n",
    "# Clean out the extra ax\n",
    "if len(axes) > len(FEW_UNIQUE_VALS):\n",
    "    for i in range(len(FEW_UNIQUE_VALS), len(axes)):\n",
    "        fig.delaxes(axes[i])\n",
    "\n",
    "for i, col in enumerate(FEW_UNIQUE_VALS):\n",
    "    plt.sca(axes[i]) # Set the current ax\n",
    "    data = df[col]\n",
    "    val_counts = data.value_counts() # count numbers\n",
    "\n",
    "    if len(val_counts) > 5:\n",
    "        top_three = val_counts.head(5) # get three top values\n",
    "        others = pd.Series({'Others': val_counts[5:].sum()}) # label the rest to be 'other'\n",
    "        data = pd.concat([top_three, others]) # concat the two series\n",
    "    else:\n",
    "        data = val_counts\n",
    "    \n",
    "    wedges, texts, autotexts = plt.pie(data, autopct='%1.1f%%')\n",
    "    plt.legend(wedges, data.keys(), loc=\"center left\", bbox_to_anchor=(0.5, -0.1))\n",
    "    plt.title('Distribution of ' + col)\n",
    "    axes[i].set_xlabel(col)\n",
    "\n",
    "fig.tight_layout()\n",
    "plt.savefig('plots/few_unique_vals.png', dpi=300, bbox_inches='tight')"
   ]
  },
  {
   "cell_type": "code",
   "execution_count": null,
   "id": "8da078d1",
   "metadata": {},
   "outputs": [],
   "source": [
    "# draw the distribution of the columns with many unique values\n",
    "nrows, ncols = 1, 2\n",
    "fig, axes = plt.subplots(nrows=nrows, ncols=ncols, figsize=(20, 16))\n",
    "axes = axes.flatten()\n",
    "\n",
    "# Clean out the extra ax\n",
    "if len(axes) > len(MANY_UNIQUE_VALS):\n",
    "    for i in range(len(MANY_UNIQUE_VALS), len(axes)):\n",
    "        fig.delaxes(axes[i])\n",
    "\n",
    "for i, col in enumerate(MANY_UNIQUE_VALS):\n",
    "    plt.sca(axes[i]) # Set the current ax\n",
    "    data = df[col]\n",
    "    val_counts = data.value_counts() # count numbers\n",
    "\n",
    "    if len(val_counts) > 5:\n",
    "        top_three = val_counts.head(5) # get three top values\n",
    "        others = pd.Series({'Others': val_counts[5:].sum()}) # label the rest to be 'other'\n",
    "        data = pd.concat([top_three, others]) # concat the two series\n",
    "    else:\n",
    "        data = val_counts\n",
    "    \n",
    "    wedges, texts, autotexts = plt.pie(data, autopct='%1.1f%%')\n",
    "    plt.legend(wedges, data.keys(), loc=\"center left\", bbox_to_anchor=(0.5, -0.1))\n",
    "    plt.title('Distribution of ' + col)\n",
    "    axes[i].set_xlabel(col)\n",
    "\n",
    "fig.tight_layout()\n",
    "plt.savefig('plots/many_unique_distribution.png', dpi=300, bbox_inches='tight')"
   ]
  }
 ],
 "metadata": {
  "kernelspec": {
   "display_name": "base",
   "language": "python",
   "name": "python3"
  },
  "language_info": {
   "name": "python",
   "version": "3.12.4"
  }
 },
 "nbformat": 4,
 "nbformat_minor": 5
}
